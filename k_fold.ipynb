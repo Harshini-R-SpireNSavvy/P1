{
  "cells": [
    {
      "cell_type": "markdown",
      "metadata": {
        "id": "view-in-github",
        "colab_type": "text"
      },
      "source": [
        "<a href=\"https://colab.research.google.com/github/Harshini-R-SpireNSavvy/P1/blob/main/k_fold.ipynb\" target=\"_parent\"><img src=\"https://colab.research.google.com/assets/colab-badge.svg\" alt=\"Open In Colab\"/></a>"
      ]
    },
    {
      "cell_type": "markdown",
      "metadata": {
        "id": "8qxZU1dBB3nQ"
      },
      "source": [
        "<h1 style='color:blue;' align='center'>KFold Cross Validation Python Tutorial</h2>"
      ]
    },
    {
      "cell_type": "code",
      "execution_count": null,
      "metadata": {
        "id": "KC1qJ9pKB3nR"
      },
      "outputs": [],
      "source": [
        "from sklearn.linear_model import LogisticRegression\n",
        "from sklearn.svm import SVC\n",
        "from sklearn.ensemble import RandomForestClassifier\n",
        "import numpy as np\n",
        "from sklearn.datasets import load_digits\n",
        "import matplotlib.pyplot as plt\n",
        "digits = load_digits()"
      ]
    },
    {
      "cell_type": "code",
      "execution_count": null,
      "metadata": {
        "id": "2kQNBTBzB3nS"
      },
      "outputs": [],
      "source": [
        "from sklearn.model_selection import train_test_split\n",
        "X_train, X_test, y_train, y_test = train_test_split(digits.data,digits.target,test_size=0.3)"
      ]
    },
    {
      "cell_type": "markdown",
      "metadata": {
        "id": "WokqXumdB3nS"
      },
      "source": [
        "**Logistic Regression**"
      ]
    },
    {
      "cell_type": "code",
      "execution_count": null,
      "metadata": {
        "id": "AeCdx84TB3nS",
        "outputId": "2deb2450-276c-49d2-e3fa-5e48ba99065d"
      },
      "outputs": [
        {
          "data": {
            "text/plain": [
              "0.9115191986644408"
            ]
          },
          "execution_count": 22,
          "metadata": {},
          "output_type": "execute_result"
        }
      ],
      "source": [
        "lr = LogisticRegression(solver='liblinear',multi_class='ovr')\n",
        "lr.fit(X_train, y_train)\n",
        "lr.score(X_test, y_test)"
      ]
    },
    {
      "cell_type": "markdown",
      "metadata": {
        "id": "oKaGtiLwB3nS"
      },
      "source": [
        "**SVM**"
      ]
    },
    {
      "cell_type": "code",
      "execution_count": null,
      "metadata": {
        "id": "fbXUGvc_B3nT",
        "outputId": "a18e6acf-0c4b-4c29-b302-f679824194ca"
      },
      "outputs": [
        {
          "data": {
            "text/plain": [
              "0.4273789649415693"
            ]
          },
          "execution_count": 23,
          "metadata": {},
          "output_type": "execute_result"
        }
      ],
      "source": [
        "svm = SVC(gamma='auto')\n",
        "svm.fit(X_train, y_train)\n",
        "svm.score(X_test, y_test)"
      ]
    },
    {
      "cell_type": "markdown",
      "metadata": {
        "id": "xxahJ7OaB3nT"
      },
      "source": [
        "**Random Forest**"
      ]
    },
    {
      "cell_type": "code",
      "execution_count": null,
      "metadata": {
        "id": "Cq3ql-qyB3nT",
        "outputId": "6508e702-01cb-40c4-bc1d-792fb41cbdb6"
      },
      "outputs": [
        {
          "data": {
            "text/plain": [
              "0.9181969949916527"
            ]
          },
          "execution_count": 24,
          "metadata": {},
          "output_type": "execute_result"
        }
      ],
      "source": [
        "rf = RandomForestClassifier(n_estimators=40)\n",
        "rf.fit(X_train, y_train)\n",
        "rf.score(X_test, y_test)"
      ]
    },
    {
      "cell_type": "markdown",
      "metadata": {
        "id": "quMgRTRBB3nT"
      },
      "source": [
        "<h2 style='color:purple'>KFold cross validation</h2>"
      ]
    },
    {
      "cell_type": "markdown",
      "metadata": {
        "id": "dkXWjrIdB3nT"
      },
      "source": [
        "**Basic example**"
      ]
    },
    {
      "cell_type": "code",
      "execution_count": null,
      "metadata": {
        "id": "Sf67XLwDB3nT",
        "outputId": "a5b8924f-644c-49f8-9bb1-517fa427c25a"
      },
      "outputs": [
        {
          "data": {
            "text/plain": [
              "KFold(n_splits=3, random_state=None, shuffle=False)"
            ]
          },
          "execution_count": 6,
          "metadata": {},
          "output_type": "execute_result"
        }
      ],
      "source": [
        "from sklearn.model_selection import KFold\n",
        "kf = KFold(n_splits=3)\n",
        "kf"
      ]
    },
    {
      "cell_type": "code",
      "execution_count": null,
      "metadata": {
        "scrolled": true,
        "id": "PMXMNl9mB3nU",
        "outputId": "a611b886-d545-4bf5-b194-fe6ebe270e17"
      },
      "outputs": [
        {
          "name": "stdout",
          "output_type": "stream",
          "text": [
            "[3 4 5 6 7 8] [0 1 2]\n",
            "[0 1 2 6 7 8] [3 4 5]\n",
            "[0 1 2 3 4 5] [6 7 8]\n"
          ]
        }
      ],
      "source": [
        "for train_index, test_index in kf.split([1,2,3,4,5,6,7,8,9]):\n",
        "    print(train_index, test_index)"
      ]
    },
    {
      "cell_type": "markdown",
      "metadata": {
        "id": "Bg_yIn0ZB3nU"
      },
      "source": [
        "**Use KFold for our digits example**"
      ]
    },
    {
      "cell_type": "code",
      "execution_count": null,
      "metadata": {
        "id": "WpKDg_d9B3nU"
      },
      "outputs": [],
      "source": [
        "def get_score(model, X_train, X_test, y_train, y_test):\n",
        "    model.fit(X_train, y_train)\n",
        "    return model.score(X_test, y_test)"
      ]
    },
    {
      "cell_type": "code",
      "execution_count": null,
      "metadata": {
        "id": "Uu9eZPaxB3nU"
      },
      "outputs": [],
      "source": [
        "from sklearn.model_selection import StratifiedKFold\n",
        "folds = StratifiedKFold(n_splits=3)\n",
        "\n",
        "scores_logistic = []\n",
        "scores_svm = []\n",
        "scores_rf = []\n",
        "\n",
        "for train_index, test_index in folds.split(digits.data,digits.target):\n",
        "    X_train, X_test, y_train, y_test = digits.data[train_index], digits.data[test_index], \\\n",
        "                                       digits.target[train_index], digits.target[test_index]\n",
        "    scores_logistic.append(get_score(LogisticRegression(solver='liblinear',multi_class='ovr'), X_train, X_test, y_train, y_test))\n",
        "    scores_svm.append(get_score(SVC(gamma='auto'), X_train, X_test, y_train, y_test))\n",
        "    scores_rf.append(get_score(RandomForestClassifier(n_estimators=40), X_train, X_test, y_train, y_test))"
      ]
    },
    {
      "cell_type": "code",
      "execution_count": null,
      "metadata": {
        "id": "TtMebybdB3nU",
        "outputId": "c1054b4a-9bed-4b9b-d9f3-a4285992c58c"
      },
      "outputs": [
        {
          "data": {
            "text/plain": [
              "[0.8953488372093024, 0.9499165275459098, 0.9093959731543624]"
            ]
          },
          "execution_count": 26,
          "metadata": {},
          "output_type": "execute_result"
        }
      ],
      "source": [
        "scores_logistic"
      ]
    },
    {
      "cell_type": "code",
      "execution_count": null,
      "metadata": {
        "id": "hC0M9tl-B3nU",
        "outputId": "0d317368-aa09-4123-971f-518c07151058"
      },
      "outputs": [
        {
          "data": {
            "text/plain": [
              "[0.39368770764119604, 0.41068447412353926, 0.4597315436241611]"
            ]
          },
          "execution_count": 27,
          "metadata": {},
          "output_type": "execute_result"
        }
      ],
      "source": [
        "scores_svm"
      ]
    },
    {
      "cell_type": "code",
      "execution_count": null,
      "metadata": {
        "id": "uR7JcXrrB3nV",
        "outputId": "0fa0f122-ec85-486a-a62a-3a865e3e6fb8"
      },
      "outputs": [
        {
          "data": {
            "text/plain": [
              "[0.9285714285714286, 0.9515859766277128, 0.9295302013422819]"
            ]
          },
          "execution_count": 28,
          "metadata": {},
          "output_type": "execute_result"
        }
      ],
      "source": [
        "scores_rf"
      ]
    },
    {
      "cell_type": "markdown",
      "metadata": {
        "id": "-ADGvB_pB3nV"
      },
      "source": [
        "<h2 style='color:purple'>cross_val_score function</h2>"
      ]
    },
    {
      "cell_type": "code",
      "execution_count": null,
      "metadata": {
        "scrolled": true,
        "id": "5GY-15kJB3nV"
      },
      "outputs": [],
      "source": [
        "from sklearn.model_selection import cross_val_score"
      ]
    },
    {
      "cell_type": "markdown",
      "metadata": {
        "id": "LJEgkvtRB3nV"
      },
      "source": [
        "**Logistic regression model performance using cross_val_score**"
      ]
    },
    {
      "cell_type": "code",
      "execution_count": null,
      "metadata": {
        "scrolled": true,
        "id": "d_vQ0M1RB3nV",
        "outputId": "fb8fdd36-c4f3-4e9f-8e76-1fa592ceb390"
      },
      "outputs": [
        {
          "data": {
            "text/plain": [
              "array([0.89534884, 0.94991653, 0.90939597])"
            ]
          },
          "execution_count": 31,
          "metadata": {},
          "output_type": "execute_result"
        }
      ],
      "source": [
        "cross_val_score(LogisticRegression(solver='liblinear',multi_class='ovr'), digits.data, digits.target,cv=3)"
      ]
    },
    {
      "cell_type": "markdown",
      "metadata": {
        "id": "jt9JHSi-B3nV"
      },
      "source": [
        "**svm model performance using cross_val_score**"
      ]
    },
    {
      "cell_type": "code",
      "execution_count": null,
      "metadata": {
        "scrolled": true,
        "id": "hIvPKu1UB3nV",
        "outputId": "241048e2-67e4-45a7-846e-09ce579e957f"
      },
      "outputs": [
        {
          "data": {
            "text/plain": [
              "array([0.39368771, 0.41068447, 0.45973154])"
            ]
          },
          "execution_count": 32,
          "metadata": {},
          "output_type": "execute_result"
        }
      ],
      "source": [
        "cross_val_score(SVC(gamma='auto'), digits.data, digits.target,cv=3)"
      ]
    },
    {
      "cell_type": "markdown",
      "metadata": {
        "id": "agOz8J0BB3nV"
      },
      "source": [
        "**random forest performance using cross_val_score**"
      ]
    },
    {
      "cell_type": "code",
      "execution_count": null,
      "metadata": {
        "id": "SKSbLRyMB3nW",
        "outputId": "399070bc-309a-4d70-c919-fc2db3cce203"
      },
      "outputs": [
        {
          "data": {
            "text/plain": [
              "array([0.93521595, 0.94156928, 0.93288591])"
            ]
          },
          "execution_count": 33,
          "metadata": {},
          "output_type": "execute_result"
        }
      ],
      "source": [
        "cross_val_score(RandomForestClassifier(n_estimators=40),digits.data, digits.target,cv=3)"
      ]
    },
    {
      "cell_type": "markdown",
      "metadata": {
        "id": "V7bqLEGyB3nW"
      },
      "source": [
        "cross_val_score uses stratifield kfold by default"
      ]
    },
    {
      "cell_type": "markdown",
      "metadata": {
        "id": "PcnoN7lzB3nW"
      },
      "source": [
        "<h2 style='color:purple'>Parameter tunning using k fold cross validation</h2>"
      ]
    },
    {
      "cell_type": "code",
      "execution_count": null,
      "metadata": {
        "id": "aTTLHiHWB3nW",
        "outputId": "191f64b7-5c72-4366-c006-bedfa70944d1"
      },
      "outputs": [
        {
          "data": {
            "text/plain": [
              "0.8793698637138034"
            ]
          },
          "execution_count": 34,
          "metadata": {},
          "output_type": "execute_result"
        }
      ],
      "source": [
        "scores1 = cross_val_score(RandomForestClassifier(n_estimators=5),digits.data, digits.target, cv=10)\n",
        "np.average(scores1)"
      ]
    },
    {
      "cell_type": "code",
      "execution_count": null,
      "metadata": {
        "id": "f1tb3sJ8B3nW",
        "outputId": "63b8f12f-93f4-48b7-8683-3ce5a3fc2617"
      },
      "outputs": [
        {
          "data": {
            "text/plain": [
              "0.9358915527370766"
            ]
          },
          "execution_count": 35,
          "metadata": {},
          "output_type": "execute_result"
        }
      ],
      "source": [
        "scores2 = cross_val_score(RandomForestClassifier(n_estimators=20),digits.data, digits.target, cv=10)\n",
        "np.average(scores2)"
      ]
    },
    {
      "cell_type": "code",
      "execution_count": null,
      "metadata": {
        "id": "ZoQnl_PFB3nW",
        "outputId": "ba9ccee4-9d6a-4dfd-f972-abf47e965ea3"
      },
      "outputs": [
        {
          "data": {
            "text/plain": [
              "0.9494121957589801"
            ]
          },
          "execution_count": 36,
          "metadata": {},
          "output_type": "execute_result"
        }
      ],
      "source": [
        "scores3 = cross_val_score(RandomForestClassifier(n_estimators=30),digits.data, digits.target, cv=10)\n",
        "np.average(scores3)"
      ]
    },
    {
      "cell_type": "code",
      "execution_count": null,
      "metadata": {
        "id": "hEAO0uA1B3nW",
        "outputId": "42b9b247-da75-47a9-db0d-5e236f1043ac"
      },
      "outputs": [
        {
          "data": {
            "text/plain": [
              "0.9482877777434258"
            ]
          },
          "execution_count": 37,
          "metadata": {},
          "output_type": "execute_result"
        }
      ],
      "source": [
        "scores4 = cross_val_score(RandomForestClassifier(n_estimators=40),digits.data, digits.target, cv=10)\n",
        "np.average(scores4)"
      ]
    }
  ],
  "metadata": {
    "kernelspec": {
      "display_name": "Python 3",
      "language": "python",
      "name": "python3"
    },
    "language_info": {
      "codemirror_mode": {
        "name": "ipython",
        "version": 3
      },
      "file_extension": ".py",
      "mimetype": "text/x-python",
      "name": "python",
      "nbconvert_exporter": "python",
      "pygments_lexer": "ipython3",
      "version": "3.7.3"
    },
    "colab": {
      "provenance": [],
      "include_colab_link": true
    }
  },
  "nbformat": 4,
  "nbformat_minor": 0
}